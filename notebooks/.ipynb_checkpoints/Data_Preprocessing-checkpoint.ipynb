{
 "cells": [
  {
   "cell_type": "code",
   "execution_count": null,
   "id": "6a9a11b9-a804-498f-a543-55f56ccdba3f",
   "metadata": {},
   "outputs": [],
   "source": [
    "!pip install -U scikit-learn"
   ]
  },
  {
   "cell_type": "code",
   "execution_count": 4,
   "id": "d2deb936-d200-4bf8-b44b-56d735ead150",
   "metadata": {},
   "outputs": [],
   "source": [
    "import pandas as pd\n",
    "import sys\n",
    "sys.path.append('C:/Users/Wlink/anaconda3/Lib/site-packages')\n",
    "from sklearn.preprocessing import StandardScaler\n",
    "from sklearn.model_selection import train_test_split\n",
    "import seaborn as sns\n",
    "import matplotlib.pyplot as plt"
   ]
  },
  {
   "cell_type": "code",
   "execution_count": 5,
   "id": "d1fd55cb-f3bf-4301-96b7-6241f022e8aa",
   "metadata": {},
   "outputs": [
    {
     "data": {
      "text/html": [
       "<div>\n",
       "<style scoped>\n",
       "    .dataframe tbody tr th:only-of-type {\n",
       "        vertical-align: middle;\n",
       "    }\n",
       "\n",
       "    .dataframe tbody tr th {\n",
       "        vertical-align: top;\n",
       "    }\n",
       "\n",
       "    .dataframe thead th {\n",
       "        text-align: right;\n",
       "    }\n",
       "</style>\n",
       "<table border=\"1\" class=\"dataframe\">\n",
       "  <thead>\n",
       "    <tr style=\"text-align: right;\">\n",
       "      <th></th>\n",
       "      <th>crim</th>\n",
       "      <th>zn</th>\n",
       "      <th>indus</th>\n",
       "      <th>chas</th>\n",
       "      <th>nox</th>\n",
       "      <th>rm</th>\n",
       "      <th>age</th>\n",
       "      <th>dis</th>\n",
       "      <th>rad</th>\n",
       "      <th>tax</th>\n",
       "      <th>ptratio</th>\n",
       "      <th>b</th>\n",
       "      <th>lstat</th>\n",
       "      <th>medv</th>\n",
       "    </tr>\n",
       "  </thead>\n",
       "  <tbody>\n",
       "    <tr>\n",
       "      <th>0</th>\n",
       "      <td>0.00632</td>\n",
       "      <td>18.0</td>\n",
       "      <td>2.31</td>\n",
       "      <td>0</td>\n",
       "      <td>0.538</td>\n",
       "      <td>6.575</td>\n",
       "      <td>65.2</td>\n",
       "      <td>4.0900</td>\n",
       "      <td>1</td>\n",
       "      <td>296</td>\n",
       "      <td>15.3</td>\n",
       "      <td>396.90</td>\n",
       "      <td>4.98</td>\n",
       "      <td>24.0</td>\n",
       "    </tr>\n",
       "    <tr>\n",
       "      <th>1</th>\n",
       "      <td>0.02731</td>\n",
       "      <td>0.0</td>\n",
       "      <td>7.07</td>\n",
       "      <td>0</td>\n",
       "      <td>0.469</td>\n",
       "      <td>6.421</td>\n",
       "      <td>78.9</td>\n",
       "      <td>4.9671</td>\n",
       "      <td>2</td>\n",
       "      <td>242</td>\n",
       "      <td>17.8</td>\n",
       "      <td>396.90</td>\n",
       "      <td>9.14</td>\n",
       "      <td>21.6</td>\n",
       "    </tr>\n",
       "    <tr>\n",
       "      <th>2</th>\n",
       "      <td>0.02729</td>\n",
       "      <td>0.0</td>\n",
       "      <td>7.07</td>\n",
       "      <td>0</td>\n",
       "      <td>0.469</td>\n",
       "      <td>7.185</td>\n",
       "      <td>61.1</td>\n",
       "      <td>4.9671</td>\n",
       "      <td>2</td>\n",
       "      <td>242</td>\n",
       "      <td>17.8</td>\n",
       "      <td>392.83</td>\n",
       "      <td>4.03</td>\n",
       "      <td>34.7</td>\n",
       "    </tr>\n",
       "  </tbody>\n",
       "</table>\n",
       "</div>"
      ],
      "text/plain": [
       "      crim    zn  indus  chas    nox     rm   age     dis  rad  tax  ptratio  \\\n",
       "0  0.00632  18.0   2.31     0  0.538  6.575  65.2  4.0900    1  296     15.3   \n",
       "1  0.02731   0.0   7.07     0  0.469  6.421  78.9  4.9671    2  242     17.8   \n",
       "2  0.02729   0.0   7.07     0  0.469  7.185  61.1  4.9671    2  242     17.8   \n",
       "\n",
       "        b  lstat  medv  \n",
       "0  396.90   4.98  24.0  \n",
       "1  396.90   9.14  21.6  \n",
       "2  392.83   4.03  34.7  "
      ]
     },
     "execution_count": 5,
     "metadata": {},
     "output_type": "execute_result"
    }
   ],
   "source": [
    "df=pd.read_csv('../data/BostonHousing.csv')\n",
    "df.head(3)"
   ]
  },
  {
   "cell_type": "code",
   "execution_count": 103,
   "id": "bc220f89-ce3d-4932-8dd3-20d78b5d035b",
   "metadata": {},
   "outputs": [
    {
     "name": "stdout",
     "output_type": "stream",
     "text": [
      "<class 'pandas.core.frame.DataFrame'>\n",
      "RangeIndex: 506 entries, 0 to 505\n",
      "Data columns (total 14 columns):\n",
      " #   Column   Non-Null Count  Dtype  \n",
      "---  ------   --------------  -----  \n",
      " 0   crim     506 non-null    float64\n",
      " 1   zn       506 non-null    float64\n",
      " 2   indus    506 non-null    float64\n",
      " 3   chas     506 non-null    int64  \n",
      " 4   nox      506 non-null    float64\n",
      " 5   rm       506 non-null    float64\n",
      " 6   age      506 non-null    float64\n",
      " 7   dis      506 non-null    float64\n",
      " 8   rad      506 non-null    int64  \n",
      " 9   tax      506 non-null    int64  \n",
      " 10  ptratio  506 non-null    float64\n",
      " 11  b        506 non-null    float64\n",
      " 12  lstat    506 non-null    float64\n",
      " 13  medv     506 non-null    float64\n",
      "dtypes: float64(11), int64(3)\n",
      "memory usage: 55.5 KB\n"
     ]
    }
   ],
   "source": [
    "df.info()"
   ]
  },
  {
   "cell_type": "markdown",
   "id": "8f1dba5a-5177-4abb-bace-1f95d75dd82d",
   "metadata": {},
   "source": [
    "# Handling Outliers :"
   ]
  },
  {
   "cell_type": "code",
   "execution_count": 211,
   "id": "6170f74b-c544-4569-a2d3-03b90e4a8d11",
   "metadata": {},
   "outputs": [
    {
     "name": "stdout",
     "output_type": "stream",
     "text": [
      "Outlier counts per column: {'crim': 66, 'zn': 68, 'chas': 35, 'rm': 30, 'dis': 5, 'ptratio': 15, 'b': 77, 'lstat': 7, 'medv': 40}\n"
     ]
    }
   ],
   "source": [
    "# Using interquartile range to find the number of outliers in each column.\n",
    "def count_outliers_IQR(data):\n",
    "    outliers={}\n",
    "    for col in data.select_dtypes(include=['number']).columns:\n",
    "        q1=data[col].quantile(0.25)\n",
    "        q3=data[col].quantile(0.75)\n",
    "        IQR=q3-q1 #formula to calculate the difference between 3rd and 1st quartile\n",
    "        low_bound=q1-1.5*IQR\n",
    "        upp_bound=q3+1.5*IQR\n",
    "        outlier_count=data[(data[col]<low_bound)|(data[col]>upp_bound)][col].count()\n",
    "        if outlier_count>0:\n",
    "            outliers[col]=int(outlier_count)\n",
    "    return outliers\n",
    "\n",
    "outliers_found = count_outliers_IQR(df)\n",
    "print(\"Outlier counts per column:\", (outliers_found))\n",
    "        "
   ]
  },
  {
   "cell_type": "markdown",
   "id": "c785583a-341f-4b6b-9fca-dd51f5b85cac",
   "metadata": {},
   "source": [
    "# Using standard to scale the data and isolation forest to remove the outliers"
   ]
  },
  {
   "cell_type": "code",
   "execution_count": 27,
   "id": "4d04c65c-ad83-40a9-8d98-01a081b77346",
   "metadata": {},
   "outputs": [
    {
     "data": {
      "image/png": "[encoded data removed]",
      "text/plain": [
       "<Figure size 1400x800 with 2 Axes>"
      ]
     },
     "metadata": {},
     "output_type": "display_data"
    },
    {
     "name": "stdout",
     "output_type": "stream",
     "text": [
      "Original shape: (506, 15)\n",
      "Cleaned shape: (480, 14)\n"
     ]
    }
   ],
   "source": [
    "from sklearn.ensemble import IsolationForest\n",
    "scaler = StandardScaler()\n",
    "df_scaled = pd.DataFrame(scaler.fit_transform(df), columns=df.columns)\n",
    "\n",
    "# Applying IsolationForest\n",
    "\n",
    "iso = IsolationForest(contamination=0.05, random_state=42) #using 7% contamination \n",
    "out_liers = iso.fit_predict(df_scaled)\n",
    "\n",
    "# Tag and remove outliers\n",
    "df['outlier'] = out_liers\n",
    "df_cleaned = df[df['outlier'] != -1].drop(columns='outlier')\n",
    "\n",
    "#to visualize boxplot before and after outlier is removed\n",
    "fig,ax=plt.subplots(1,2,figsize=(14,8))\n",
    "ax[0].boxplot(df)\n",
    "ax[0].set_title('Features and target variable before outliers is removed')\n",
    "\n",
    "ax[1].boxplot(df_cleaned)\n",
    "ax[1].set_title('Features and target variable after outliers is removed')\n",
    "\n",
    "plt.show()\n",
    "\n",
    "\n",
    "# Print the shape before and after\n",
    "print(f\"Original shape: {df.shape}\")\n",
    "print(f\"Cleaned shape: {df_cleaned.shape}\")\n",
    "\n",
    "# Splitting the dataset\n",
    "X = df_cleaned.drop(columns=['medv'])\n",
    "y = df_cleaned['medv']\n",
    "X_train, X_test, y_train, y_test = train_test_split(X, y, test_size=0.2, random_state=42)"
   ]
  },
  {
   "cell_type": "code",
   "execution_count": 29,
   "id": "f62b8fd1-3e33-4d47-839a-8b0b3134ba42",
   "metadata": {},
   "outputs": [
    {
     "name": "stdout",
     "output_type": "stream",
     "text": [
      "done\n"
     ]
    }
   ],
   "source": [
    "# Saving the preprocessed data\n",
    "import os\n",
    "os.makedirs(\"./data\", exist_ok=True)\n",
    "\n",
    "# Saving the datasets \n",
    "X_train.to_csv(\"./data/X_train.csv\", index=False)\n",
    "X_test.to_csv(\"./data/X_test.csv\", index=False)\n",
    "y_train.to_csv(\"./data/y_train.csv\", index=False)\n",
    "y_test.to_csv(\"./data/y_test.csv\", index=False)\n",
    "print(\"done\")"
   ]
  },
  {
   "cell_type": "code",
   "execution_count": null,
   "id": "89e52de6-666c-4c86-b5a6-c415eef4a448",
   "metadata": {},
   "outputs": [],
   "source": []
  }
 ],
 "metadata": {
  "kernelspec": {
   "display_name": "Python 3 (ipykernel)",
   "language": "python",
   "name": "python3"
  },
  "language_info": {
   "codemirror_mode": {
    "name": "ipython",
    "version": 3
   },
   "file_extension": ".py",
   "mimetype": "text/x-python",
   "name": "python",
   "nbconvert_exporter": "python",
   "pygments_lexer": "ipython3",
   "version": "3.12.7"
  }
 },
 "nbformat": 4,
 "nbformat_minor": 5
}
