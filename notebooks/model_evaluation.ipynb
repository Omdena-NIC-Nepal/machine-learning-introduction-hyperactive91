{
 "cells": [
  {
   "cell_type": "code",
   "execution_count": 4,
   "id": "d9bb8b16-3594-44d7-9867-bf6d39ad8ede",
   "metadata": {},
   "outputs": [],
   "source": [
    "#importing the necessary libraries\n",
    "import pandas as pd\n",
    "import sys\n",
    "sys.path.append('C:/Users/Wlink/anaconda3/Lib/site-packages')\n",
    "import joblib\n",
    "import matplotlib.pyplot as plt\n",
    "import seaborn as sns\n",
    "from sklearn.metrics import r2_score, mean_squared_error, root_mean_squared_error, mean_absolute_error"
   ]
  },
  {
   "cell_type": "code",
   "execution_count": 8,
   "id": "ab470572-7af6-4415-b237-e9a9ef9f2522",
   "metadata": {},
   "outputs": [],
   "source": [
    "model = joblib.load('../model/linear_regression_model.pkl') #loading the trained linear regression model"
   ]
  },
  {
   "cell_type": "code",
   "execution_count": 10,
   "id": "7381cc9d-50dd-4bf9-bc2f-7a71fdd1e749",
   "metadata": {},
   "outputs": [],
   "source": [
    "x_test=pd.read_csv('./data/X_test.csv')\n",
    "y_test=pd.read_csv('./data/Y_test.csv')"
   ]
  },
  {
   "cell_type": "code",
   "execution_count": 12,
   "id": "5ea9ee1d-9b41-4891-8e2c-7a0ba8116b58",
   "metadata": {},
   "outputs": [],
   "source": [
    "y_pred=model.predict(x_test) #using the linear regression model to predict the target variable"
   ]
  },
  {
   "cell_type": "code",
   "execution_count": 29,
   "id": "1802ffae-f386-4bd4-9c01-a6a4636dd845",
   "metadata": {},
   "outputs": [
    {
     "data": {
      "text/html": [
       "<div>\n",
       "<style scoped>\n",
       "    .dataframe tbody tr th:only-of-type {\n",
       "        vertical-align: middle;\n",
       "    }\n",
       "\n",
       "    .dataframe tbody tr th {\n",
       "        vertical-align: top;\n",
       "    }\n",
       "\n",
       "    .dataframe thead th {\n",
       "        text-align: right;\n",
       "    }\n",
       "</style>\n",
       "<table border=\"1\" class=\"dataframe\">\n",
       "  <thead>\n",
       "    <tr style=\"text-align: right;\">\n",
       "      <th></th>\n",
       "      <th>crim</th>\n",
       "      <th>zn</th>\n",
       "      <th>indus</th>\n",
       "      <th>chas</th>\n",
       "      <th>nox</th>\n",
       "      <th>rm</th>\n",
       "      <th>age</th>\n",
       "      <th>dis</th>\n",
       "      <th>rad</th>\n",
       "      <th>tax</th>\n",
       "      <th>ptratio</th>\n",
       "      <th>b</th>\n",
       "      <th>lstat</th>\n",
       "    </tr>\n",
       "  </thead>\n",
       "  <tbody>\n",
       "    <tr>\n",
       "      <th>0</th>\n",
       "      <td>0.19539</td>\n",
       "      <td>0.0</td>\n",
       "      <td>10.81</td>\n",
       "      <td>0</td>\n",
       "      <td>0.413</td>\n",
       "      <td>6.245</td>\n",
       "      <td>6.2</td>\n",
       "      <td>5.2873</td>\n",
       "      <td>4</td>\n",
       "      <td>305</td>\n",
       "      <td>19.2</td>\n",
       "      <td>377.17</td>\n",
       "      <td>7.54</td>\n",
       "    </tr>\n",
       "    <tr>\n",
       "      <th>1</th>\n",
       "      <td>9.39063</td>\n",
       "      <td>0.0</td>\n",
       "      <td>18.10</td>\n",
       "      <td>0</td>\n",
       "      <td>0.740</td>\n",
       "      <td>5.627</td>\n",
       "      <td>93.9</td>\n",
       "      <td>1.8172</td>\n",
       "      <td>24</td>\n",
       "      <td>666</td>\n",
       "      <td>20.2</td>\n",
       "      <td>396.90</td>\n",
       "      <td>22.88</td>\n",
       "    </tr>\n",
       "    <tr>\n",
       "      <th>2</th>\n",
       "      <td>11.81230</td>\n",
       "      <td>0.0</td>\n",
       "      <td>18.10</td>\n",
       "      <td>0</td>\n",
       "      <td>0.718</td>\n",
       "      <td>6.824</td>\n",
       "      <td>76.5</td>\n",
       "      <td>1.7940</td>\n",
       "      <td>24</td>\n",
       "      <td>666</td>\n",
       "      <td>20.2</td>\n",
       "      <td>48.45</td>\n",
       "      <td>22.74</td>\n",
       "    </tr>\n",
       "    <tr>\n",
       "      <th>3</th>\n",
       "      <td>0.03502</td>\n",
       "      <td>80.0</td>\n",
       "      <td>4.95</td>\n",
       "      <td>0</td>\n",
       "      <td>0.411</td>\n",
       "      <td>6.861</td>\n",
       "      <td>27.9</td>\n",
       "      <td>5.1167</td>\n",
       "      <td>4</td>\n",
       "      <td>245</td>\n",
       "      <td>19.2</td>\n",
       "      <td>396.90</td>\n",
       "      <td>3.33</td>\n",
       "    </tr>\n",
       "    <tr>\n",
       "      <th>4</th>\n",
       "      <td>8.79212</td>\n",
       "      <td>0.0</td>\n",
       "      <td>18.10</td>\n",
       "      <td>0</td>\n",
       "      <td>0.584</td>\n",
       "      <td>5.565</td>\n",
       "      <td>70.6</td>\n",
       "      <td>2.0635</td>\n",
       "      <td>24</td>\n",
       "      <td>666</td>\n",
       "      <td>20.2</td>\n",
       "      <td>3.65</td>\n",
       "      <td>17.16</td>\n",
       "    </tr>\n",
       "  </tbody>\n",
       "</table>\n",
       "</div>"
      ],
      "text/plain": [
       "       crim    zn  indus  chas    nox     rm   age     dis  rad  tax  ptratio  \\\n",
       "0   0.19539   0.0  10.81     0  0.413  6.245   6.2  5.2873    4  305     19.2   \n",
       "1   9.39063   0.0  18.10     0  0.740  5.627  93.9  1.8172   24  666     20.2   \n",
       "2  11.81230   0.0  18.10     0  0.718  6.824  76.5  1.7940   24  666     20.2   \n",
       "3   0.03502  80.0   4.95     0  0.411  6.861  27.9  5.1167    4  245     19.2   \n",
       "4   8.79212   0.0  18.10     0  0.584  5.565  70.6  2.0635   24  666     20.2   \n",
       "\n",
       "        b  lstat  \n",
       "0  377.17   7.54  \n",
       "1  396.90  22.88  \n",
       "2   48.45  22.74  \n",
       "3  396.90   3.33  \n",
       "4    3.65  17.16  "
      ]
     },
     "execution_count": 29,
     "metadata": {},
     "output_type": "execute_result"
    }
   ],
   "source": [
    "x_test.head()"
   ]
  },
  {
   "cell_type": "code",
   "execution_count": 31,
   "id": "55c4ff78-28ee-4f4f-983d-b789a1da4b7c",
   "metadata": {},
   "outputs": [
    {
     "data": {
      "text/html": [
       "<div>\n",
       "<style scoped>\n",
       "    .dataframe tbody tr th:only-of-type {\n",
       "        vertical-align: middle;\n",
       "    }\n",
       "\n",
       "    .dataframe tbody tr th {\n",
       "        vertical-align: top;\n",
       "    }\n",
       "\n",
       "    .dataframe thead th {\n",
       "        text-align: right;\n",
       "    }\n",
       "</style>\n",
       "<table border=\"1\" class=\"dataframe\">\n",
       "  <thead>\n",
       "    <tr style=\"text-align: right;\">\n",
       "      <th></th>\n",
       "      <th>medv</th>\n",
       "    </tr>\n",
       "  </thead>\n",
       "  <tbody>\n",
       "    <tr>\n",
       "      <th>0</th>\n",
       "      <td>23.4</td>\n",
       "    </tr>\n",
       "    <tr>\n",
       "      <th>1</th>\n",
       "      <td>12.8</td>\n",
       "    </tr>\n",
       "    <tr>\n",
       "      <th>2</th>\n",
       "      <td>8.4</td>\n",
       "    </tr>\n",
       "    <tr>\n",
       "      <th>3</th>\n",
       "      <td>28.5</td>\n",
       "    </tr>\n",
       "    <tr>\n",
       "      <th>4</th>\n",
       "      <td>11.7</td>\n",
       "    </tr>\n",
       "  </tbody>\n",
       "</table>\n",
       "</div>"
      ],
      "text/plain": [
       "   medv\n",
       "0  23.4\n",
       "1  12.8\n",
       "2   8.4\n",
       "3  28.5\n",
       "4  11.7"
      ]
     },
     "execution_count": 31,
     "metadata": {},
     "output_type": "execute_result"
    }
   ],
   "source": [
    "y_test.head()"
   ]
  },
  {
   "cell_type": "code",
   "execution_count": 14,
   "id": "85a2b18f-ce1e-42ea-aa7b-dff775ac6b6c",
   "metadata": {},
   "outputs": [],
   "source": [
    "#calculation of mean squared error, root mean squared error, r-squared, and mean absolute error\n",
    "mse=mean_squared_error(y_test,y_pred) \n",
    "r2=r2_score(y_test,y_pred)\n",
    "rmse = root_mean_squared_error(y_test,y_pred)\n",
    "mae= mean_absolute_error(y_test,y_pred)"
   ]
  },
  {
   "cell_type": "code",
   "execution_count": 42,
   "id": "7e7dd1db-538f-44b5-b6cd-31c8d9c7b213",
   "metadata": {},
   "outputs": [
    {
     "name": "stdout",
     "output_type": "stream",
     "text": [
      "Mean squared error : 12.918449313112804\n",
      "R-squared error : 0.7642257213141912\n",
      "Root mean squared error : 3.5942244383333666\n",
      "Mean absolute error : 2.552047541360358\n"
     ]
    }
   ],
   "source": [
    "print(f\"Mean squared error : {mse}\\nR-squared error : {r2}\\nRoot mean squared error : {rmse}\\nMean absolute error : {mae}\")"
   ]
  },
  {
   "cell_type": "markdown",
   "id": "c4919312-0776-4d6d-be48-3f7569a13c10",
   "metadata": {},
   "source": [
    "\"\"\"\n",
    "Model Evaluation Summary\n",
    "Mean Squared Error (MSE): 12.92\n",
    "\n",
    "Measures the average squared difference between actual and predicted values. Lower is better.\n",
    "\n",
    "Root Mean Squared Error (RMSE): 3.59\n",
    "\n",
    "Square root of MSE; more interpretable as it’s in the same unit as the target variable (housing prices).\n",
    "\n",
    "Mean Absolute Error (MAE): 2.55\n",
    "\n",
    "Average of absolute errors; shows on average how much predictions deviate from actual values.\n",
    "\n",
    "R² Score (R-squared): 0.764\n",
    "\n",
    "The model explains 76.4% of the variance in the target variable, which is quite solid for this kind of data. A good R² above 0.75 indicates it's capturing most of the underlying patterns in the data. \n",
    "\"\"\""
   ]
  },
  {
   "cell_type": "code",
   "execution_count": null,
   "id": "c97a2814-6b43-4b14-a2e4-2dbcf0fdff7a",
   "metadata": {},
   "outputs": [],
   "source": []
  }
 ],
 "metadata": {
  "kernelspec": {
   "display_name": "Python 3 (ipykernel)",
   "language": "python",
   "name": "python3"
  },
  "language_info": {
   "codemirror_mode": {
    "name": "ipython",
    "version": 3
   },
   "file_extension": ".py",
   "mimetype": "text/x-python",
   "name": "python",
   "nbconvert_exporter": "python",
   "pygments_lexer": "ipython3",
   "version": "3.12.7"
  }
 },
 "nbformat": 4,
 "nbformat_minor": 5
}
