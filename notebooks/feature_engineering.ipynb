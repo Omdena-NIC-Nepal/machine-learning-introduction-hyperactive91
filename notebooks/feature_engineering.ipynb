{
 "cells": [
  {
   "cell_type": "code",
   "execution_count": 2,
   "id": "53bc1303-28ef-4ac1-bc03-01daa92c5edc",
   "metadata": {},
   "outputs": [
    {
     "name": "stdout",
     "output_type": "stream",
     "text": [
      "Name: scikit-learn\n",
      "Version: 1.6.1\n",
      "Summary: A set of python modules for machine learning and data mining\n",
      "Home-page: https://scikit-learn.org\n",
      "Author: \n",
      "Author-email: \n",
      "License: BSD 3-Clause License\n",
      "\n",
      " Copyright (c) 2007-2024 The scikit-learn developers.\n",
      " All rights reserved.\n",
      "\n",
      " Redistribution and use in source and binary forms, with or without\n",
      " modification, are permitted provided that the following conditions are met:\n",
      "\n",
      " * Redistributions of source code must retain the above copyright notice, this\n",
      "   list of conditions and the following disclaimer.\n",
      "\n",
      " * Redistributions in binary form must reproduce the above copyright notice,\n",
      "   this list of conditions and the following disclaimer in the documentation\n",
      "   and/or other materials provided with the distribution.\n",
      "\n",
      " * Neither the name of the copyright holder nor the names of its\n",
      "   contributors may be used to endorse or promote products derived from\n",
      "   this software without specific prior written permission.\n",
      "\n",
      " THIS SOFTWARE IS PROVIDED BY THE COPYRIGHT HOLDERS AND CONTRIBUTORS \"AS IS\"\n",
      " AND ANY EXPRESS OR IMPLIED WARRANTIES, INCLUDING, BUT NOT LIMITED TO, THE\n",
      " IMPLIED WARRANTIES OF MERCHANTABILITY AND FITNESS FOR A PARTICULAR PURPOSE ARE\n",
      " DISCLAIMED. IN NO EVENT SHALL THE COPYRIGHT HOLDER OR CONTRIBUTORS BE LIABLE\n",
      " FOR ANY DIRECT, INDIRECT, INCIDENTAL, SPECIAL, EXEMPLARY, OR CONSEQUENTIAL\n",
      " DAMAGES (INCLUDING, BUT NOT LIMITED TO, PROCUREMENT OF SUBSTITUTE GOODS OR\n",
      " SERVICES; LOSS OF USE, DATA, OR PROFITS; OR BUSINESS INTERRUPTION) HOWEVER\n",
      " CAUSED AND ON ANY THEORY OF LIABILITY, WHETHER IN CONTRACT, STRICT LIABILITY,\n",
      " OR TORT (INCLUDING NEGLIGENCE OR OTHERWISE) ARISING IN ANY WAY OUT OF THE USE\n",
      " OF THIS SOFTWARE, EVEN IF ADVISED OF THE POSSIBILITY OF SUCH DAMAGE.\n",
      "\n",
      " ----\n",
      "\n",
      " This binary distribution of scikit-learn also bundles the following software:\n",
      "\n",
      " ----\n",
      "\n",
      " Name: Microsoft Visual C++ Runtime Files\n",
      " Files: sklearn\\.libs\\*.dll\n",
      " Availability: https://learn.microsoft.com/en-us/visualstudio/releases/2015/2015-redistribution-vs\n",
      "\n",
      " Subject to the License Terms for the software, you may copy and distribute with your\n",
      " program any of the files within the followng folder and its subfolders except as noted\n",
      " below. You may not modify these files.\n",
      "\n",
      " C:\\Program Files (x86)\\Microsoft Visual Studio 14.0\\VC\\redist\n",
      "\n",
      " You may not distribute the contents of the following folders:\n",
      "\n",
      " C:\\Program Files (x86)\\Microsoft Visual Studio 14.0\\VC\\redist\\debug_nonredist\n",
      " C:\\Program Files (x86)\\Microsoft Visual Studio 14.0\\VC\\redist\\onecore\\debug_nonredist\n",
      "\n",
      " Subject to the License Terms for the software, you may copy and distribute the following\n",
      " files with your program in your program’s application local folder or by deploying them\n",
      " into the Global Assembly Cache (GAC):\n",
      "\n",
      " VC\\atlmfc\\lib\\mfcmifc80.dll\n",
      " VC\\atlmfc\\lib\\amd64\\mfcmifc80.dll\n",
      "\n",
      "Location: C:\\Users\\Wlink\\anaconda3\\Lib\\site-packages\n",
      "Requires: joblib, numpy, scipy, threadpoolctl\n",
      "Required-by: imbalanced-learn\n"
     ]
    }
   ],
   "source": [
    "!pip show scikit-learn"
   ]
  },
  {
   "cell_type": "code",
   "execution_count": 3,
   "id": "9dfcb57d-7886-4b87-8cb4-8f619cc2e1b9",
   "metadata": {},
   "outputs": [],
   "source": [
    "import sys\n",
    "sys.path.append(\"C:/Users/Wlink/anaconda3/Lib/site-packages\")\n",
    "import pandas as pd\n",
    "import joblib\n",
    "from sklearn.linear_model import LinearRegression\n",
    "from sklearn.metrics import mean_squared_error, r2_score, root_mean_squared_error, mean_absolute_error\n",
    "from sklearn.model_selection import train_test_split\n",
    "from sklearn.preprocessing import PolynomialFeatures\n",
    "import matplotlib.pyplot as plt\n",
    "import seaborn as sns"
   ]
  },
  {
   "cell_type": "code",
   "execution_count": 4,
   "id": "6c649172-6e0c-4736-84cf-75dc433ab47e",
   "metadata": {},
   "outputs": [
    {
     "name": "stdout",
     "output_type": "stream",
     "text": [
      "96 384 96 384\n",
      "X_test data: \n",
      "         crim    zn  indus  chas    nox     rm   age     dis  rad  tax  \\\n",
      "0    0.19539   0.0  10.81     0  0.413  6.245   6.2  5.2873    4  305   \n",
      "1    9.39063   0.0  18.10     0  0.740  5.627  93.9  1.8172   24  666   \n",
      "2   11.81230   0.0  18.10     0  0.718  6.824  76.5  1.7940   24  666   \n",
      "3    0.03502  80.0   4.95     0  0.411  6.861  27.9  5.1167    4  245   \n",
      "4    8.79212   0.0  18.10     0  0.584  5.565  70.6  2.0635   24  666   \n",
      "..       ...   ...    ...   ...    ...    ...   ...     ...  ...  ...   \n",
      "91   0.46296   0.0   6.20     0  0.504  7.412  76.9  3.6715    8  307   \n",
      "92   0.33983  22.0   5.86     0  0.431  6.108  34.9  8.0555    7  330   \n",
      "93   5.58107   0.0  18.10     0  0.713  6.436  87.9  2.3158   24  666   \n",
      "94   0.84054   0.0   8.14     0  0.538  5.599  85.7  4.4546    4  307   \n",
      "95  12.80230   0.0  18.10     0  0.740  5.854  96.6  1.8956   24  666   \n",
      "\n",
      "    ptratio       b  lstat  \n",
      "0      19.2  377.17   7.54  \n",
      "1      20.2  396.90  22.88  \n",
      "2      20.2   48.45  22.74  \n",
      "3      19.2  396.90   3.33  \n",
      "4      20.2    3.65  17.16  \n",
      "..      ...     ...    ...  \n",
      "91     17.4  376.14   5.25  \n",
      "92     19.1  390.18   9.16  \n",
      "93     20.2  100.19  16.22  \n",
      "94     21.0  303.42  16.51  \n",
      "95     20.2  240.52  23.79  \n",
      "\n",
      "[96 rows x 13 columns]\n",
      "y_test data: \n",
      "     medv\n",
      "0   23.4\n",
      "1   12.8\n",
      "2    8.4\n",
      "3   28.5\n",
      "4   11.7\n",
      "..   ...\n",
      "91  31.7\n",
      "92  24.3\n",
      "93  14.3\n",
      "94  13.9\n",
      "95  10.8\n",
      "\n",
      "[96 rows x 1 columns]\n"
     ]
    }
   ],
   "source": [
    "###Load the Preprocessed Dataset\n",
    "def read_file(filename):\n",
    "    filepath = './data/'+str(filename)\n",
    "    return pd.read_csv(filepath)\n",
    "\n",
    "X_test = read_file('X_test.csv')\n",
    "y_test = read_file('y_test.csv')\n",
    "X_train = read_file('X_train.csv')\n",
    "y_train = read_file('y_train.csv')\n",
    "\n",
    "print(len(X_test), len(X_train), len(y_test), len(y_train))\n",
    "\n",
    "print(\"X_test data: \\n\", X_test)\n",
    "print(\"y_test data: \\n\", y_test)"
   ]
  },
  {
   "cell_type": "code",
   "execution_count": 5,
   "id": "1c360ca0-8b36-4741-960c-75d2fcef9f84",
   "metadata": {},
   "outputs": [],
   "source": [
    "# Create new interaction features\n",
    "X_train['LSTAT_RM'] = X_train['lstat'] * X_train['rm']\n",
    "X_test['LSTAT_RM'] = X_test['lstat'] * X_test['rm']\n",
    "\n",
    "# Add polynomial feature (e.g., squared value)\n",
    "X_train['RM_squared'] = X_train['rm'] ** 2\n",
    "X_test['RM_squared'] = X_test['rm'] ** 2"
   ]
  },
  {
   "cell_type": "code",
   "execution_count": 6,
   "id": "ef233aad-2010-4445-b94e-1bc9206a6d45",
   "metadata": {},
   "outputs": [],
   "source": [
    "# Train the model\n",
    "lr_model = LinearRegression()\n",
    "lr_model.fit(X_train, y_train)\n",
    "\n",
    "# Predict\n",
    "y_pred = lr_model.predict(X_test)"
   ]
  },
  {
   "cell_type": "code",
   "execution_count": 7,
   "id": "f52bfce9-70dc-4c0b-a8b0-ee305723c741",
   "metadata": {},
   "outputs": [
    {
     "name": "stdout",
     "output_type": "stream",
     "text": [
      "Mean Squared Error (MSE): 7.189788018824186\n",
      "R² Score: 0.868779367944613\n"
     ]
    }
   ],
   "source": [
    "#Evaluate Model\n",
    "print(\"Mean Squared Error (MSE):\", mean_squared_error(y_test, y_pred))\n",
    "print(\"R² Score:\", r2_score(y_test, y_pred))"
   ]
  },
  {
   "cell_type": "code",
   "execution_count": null,
   "id": "623fde39-0850-4063-b243-649cbede61aa",
   "metadata": {},
   "outputs": [
    {
     "data": {
      "text/plain": [
       "['../data/linear_regression_with_features.pkl']"
      ]
     },
     "execution_count": 8,
     "metadata": {},
     "output_type": "execute_result"
    }
   ],
   "source": [
    "# Save the updated dataset with new features\n",
    "joblib.dump({\n",
    "    'X_train': X_train,\n",
    "    'X_test': X_test,\n",
    "    'y_train': y_train,\n",
    "    'y_test': y_test\n",
    "}, \"../data/engineered_data.pkl\")\n",
    "\n",
    "# Save the model\n",
    "joblib.dump(lr_model, \"../data/linear_regression_with_features.pkl\")"
   ]
  },
  {
   "cell_type": "code",
   "execution_count": null,
   "id": "7dd2dcf3-1f36-454f-b8e2-8a2c564f9687",
   "metadata": {},
   "outputs": [
    {
     "name": "stdout",
     "output_type": "stream",
     "text": [
      "Poly MSE: 28.24458359730619\n",
      "Poly R²: 0.4845088475381981\n"
     ]
    }
   ],
   "source": [
    "poly = PolynomialFeatures(degree=2, include_bias=False)\n",
    "X_train_poly = poly.fit_transform(X_train)\n",
    "X_test_poly = poly.transform(X_test)\n",
    "\n",
    "# Train with poly features\n",
    "poly_lr = LinearRegression()\n",
    "poly_lr.fit(X_train_poly, y_train)\n",
    "\n",
    "# Evaluate\n",
    "y_poly_pred = poly_lr.predict(X_test_poly)\n",
    "print(\"Poly MSE:\", mean_squared_error(y_test, y_poly_pred))\n",
    "print(\"Poly R²:\", r2_score(y_test, y_poly_pred))"
   ]
  },
  {
   "cell_type": "code",
   "execution_count": 10,
   "id": "f9efad0c-158c-4e8d-a6ca-2a324fc21ab1",
   "metadata": {},
   "outputs": [
    {
     "data": {
      "text/plain": [
       "['../data/y_polymial_predication.csv']"
      ]
     },
     "execution_count": 10,
     "metadata": {},
     "output_type": "execute_result"
    }
   ],
   "source": [
    "# Save the model\n",
    "joblib.dump(y_poly_pred, \"../data/y_polymial_predication.csv\")"
   ]
  },
  {
   "cell_type": "code",
   "execution_count": null,
   "id": "f3365596-2223-40c1-a01d-cd20ec4d37ba",
   "metadata": {},
   "outputs": [],
   "source": []
  }
 ],
 "metadata": {
  "kernelspec": {
   "display_name": "Python 3 (ipykernel)",
   "language": "python",
   "name": "python3"
  },
  "language_info": {
   "codemirror_mode": {
    "name": "ipython",
    "version": 3
   },
   "file_extension": ".py",
   "mimetype": "text/x-python",
   "name": "python",
   "nbconvert_exporter": "python",
   "pygments_lexer": "ipython3",
   "version": "3.12.7"
  }
 },
 "nbformat": 4,
 "nbformat_minor": 5
}
